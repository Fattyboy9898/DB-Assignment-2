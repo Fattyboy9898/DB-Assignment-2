{
 "cells": [
  {
   "cell_type": "code",
   "execution_count": 1,
   "metadata": {},
   "outputs": [],
   "source": [
    "import sys\n",
    "from pyspark.sql import SparkSession\n",
    "from pyspark.sql import functions as F\n",
    "from pyspark.sql.types import StructField, StructType,StringType,ArrayType,IntegerType,DoubleType,BooleanType"
   ]
  },
  {
   "cell_type": "code",
   "execution_count": 2,
   "metadata": {},
   "outputs": [],
   "source": [
    "spark = SparkSession.builder.appName(\"Assingment 2 Question 1\").getOrCreate()\n",
    "\n",
    "\n",
    "df = spark.read.option('header','true').csv(\"./data/TA_restaurants_curated_cleaned.csv\",inferSchema=True)\n",
    "#df = spark.read.option('header','true').csv(\"./data/try.csv\",inferSchema=True)\n"
   ]
  },
  {
   "cell_type": "code",
   "execution_count": 3,
   "metadata": {},
   "outputs": [
    {
     "name": "stdout",
     "output_type": "stream",
     "text": [
      "root\n",
      " |-- _c0: integer (nullable = true)\n",
      " |-- Name: string (nullable = true)\n",
      " |-- City: string (nullable = true)\n",
      " |-- Cuisine Style: string (nullable = true)\n",
      " |-- Ranking: double (nullable = true)\n",
      " |-- Rating: double (nullable = true)\n",
      " |-- Price Range: string (nullable = true)\n",
      " |-- Number of Reviews: double (nullable = true)\n",
      " |-- Reviews: string (nullable = true)\n",
      " |-- URL_TA: string (nullable = true)\n",
      " |-- ID_TA: string (nullable = true)\n",
      "\n",
      "85562\n",
      "85514\n"
     ]
    },
    {
     "data": {
      "text/plain": [
       "Row(_c0=0, Name=\"Martine of Martine's Table\", City='Amsterdam', Cuisine Style=\"[ 'French', 'Dutch', 'European' ]\", Ranking=1.0, Rating=5.0, Price Range='$$ - $$$', Number of Reviews=136.0, Reviews=\"[ [ 'Just like home', 'A Warm Welcome to Wintry Amsterdam' ], [ '01/03/2018', '01/01/2018' ] ]\", URL_TA='/Restaurant_Review-g188590-d11752080-Reviews-Martine_of_Martine_s_Table-Amsterdam_North_Holland_Province.html', ID_TA='d11752080')"
      ]
     },
     "execution_count": 3,
     "metadata": {},
     "output_type": "execute_result"
    }
   ],
   "source": [
    "df.printSchema()\n",
    "print(df.count())\n",
    "df = df.filter(df['Rating']>=1)\n",
    "print(df.count())\n",
    "df.head()\n"
   ]
  },
  {
   "cell_type": "code",
   "execution_count": 4,
   "metadata": {},
   "outputs": [
    {
     "name": "stdout",
     "output_type": "stream",
     "text": [
      "75867\n"
     ]
    }
   ],
   "source": [
    "df =df.filter(df[\"Reviews\"] != F.lit(\"[ [  ], [  ] ]\"))\n",
    "print(df.count())\n"
   ]
  },
  {
   "cell_type": "code",
   "execution_count": 5,
   "metadata": {},
   "outputs": [],
   "source": [
    "df.toPandas().to_csv(\"output/modifiedData.csv\")"
   ]
  }
 ],
 "metadata": {
  "interpreter": {
   "hash": "f23faf4bfe871c203c8bec80520af5927fc7cb1ae3bd834ddf554ee587ad1c05"
  },
  "kernelspec": {
   "display_name": "Python 3.8.7 64-bit",
   "language": "python",
   "name": "python3"
  },
  "language_info": {
   "codemirror_mode": {
    "name": "ipython",
    "version": 3
   },
   "file_extension": ".py",
   "mimetype": "text/x-python",
   "name": "python",
   "nbconvert_exporter": "python",
   "pygments_lexer": "ipython3",
   "version": "3.9.1"
  },
  "orig_nbformat": 4
 },
 "nbformat": 4,
 "nbformat_minor": 2
}
