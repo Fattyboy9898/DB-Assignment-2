{
 "cells": [
  {
   "cell_type": "code",
   "execution_count": 3,
   "metadata": {},
   "outputs": [
    {
     "name": "stdout",
     "output_type": "stream",
     "text": [
      "+---------+--------------------+-----+\n",
      "|     City|             Cuisine|count|\n",
      "+---------+--------------------+-----+\n",
      "|Amsterdam|    'Middle Eastern'|   64|\n",
      "|Amsterdam|       'Indonesian' |   33|\n",
      "|Amsterdam|    'Cajun & Creole'|    2|\n",
      "|Amsterdam| 'Vegetarian Frie...|  682|\n",
      "|Amsterdam|    'International' |   70|\n",
      "|Amsterdam|         'Pakistani'|    6|\n",
      "|Amsterdam| 'Central American' |    1|\n",
      "|Amsterdam|       'Vietnamese' |    5|\n",
      "|Amsterdam|      'Street Food' |    5|\n",
      "|Amsterdam|           'Belgian'|   13|\n",
      "|Amsterdam|           'African'|   23|\n",
      "|Amsterdam|             'Halal'|   18|\n",
      "|Amsterdam|  'Minority Chinese'|    1|\n",
      "|Amsterdam|         'Brazilian'|    7|\n",
      "|Amsterdam|        'Portuguese'|    3|\n",
      "|Amsterdam|      'Contemporary'|   39|\n",
      "|Amsterdam|      'Delicatessen'|   17|\n",
      "|Amsterdam|    'South American'|   19|\n",
      "|Amsterdam|     'International'|  275|\n",
      "|Amsterdam|       'New Zealand'|    3|\n",
      "+---------+--------------------+-----+\n",
      "only showing top 20 rows\n",
      "\n"
     ]
    }
   ],
   "source": [
    "import sys\n",
    "from pyspark.sql import SparkSession\n",
    "# you may add more import if you need to\n",
    "from pyspark.context import SparkContext\n",
    "from pyspark.sql import functions as F\n",
    "from pyspark.sql.functions import explode,col\n",
    "from pyspark.sql.functions import count\n",
    "\n",
    "sc = SparkContext.getOrCreate()\n",
    "spark = SparkSession.builder.appName(\"Assigment 2 Question 4\").getOrCreate()\n",
    "# YOUR CODE GOES BELOW\n",
    "df = spark.read.option(\"header\",True).csv(\"./data/TA_restaurants_curated_cleaned.csv\",inferSchema=True)\n",
    "df = df.withColumn('Cuisine Style',F.regexp_replace('Cuisine Style',\"\\\\[\",\"\"))\n",
    "df = df.withColumn('Cuisine Style',F.regexp_replace('Cuisine Style',\"\\\\]\",\"\"))\n",
    "df = df.withColumn('Cuisine Style',F.split(F.col('Cuisine Style'),\",\"))\n",
    "df_exploded = df.withColumn('Cuisine Style',explode('Cuisine Style'))\n",
    "newdf = df_exploded.select(\"City\",\"Cuisine Style\")\n",
    "newdf = newdf.groupBy(\"City\", \"Cuisine Style\").agg(count(\"*\").alias(\"count\"))\n",
    "newdf = newdf.select(col(\"City\").alias(\"City\"),col(\"Cuisine Style\").alias(\"Cuisine\"),col(\"count\").alias(\"count\"))\n",
    "newdf = newdf.sort(\"City\")\n",
    "newdf.show()\n",
    "\n",
    "newdf.toPandas().to_csv(\"output/modifiedData4.csv\")"
   ]
  }
 ],
 "metadata": {
  "interpreter": {
   "hash": "df67e98752399f1df19cca3c6bce828e5600fc8fe66d1d5fce4520b14f4d0349"
  },
  "kernelspec": {
   "display_name": "Python 3.9.1 64-bit",
   "language": "python",
   "name": "python3"
  },
  "language_info": {
   "codemirror_mode": {
    "name": "ipython",
    "version": 3
   },
   "file_extension": ".py",
   "mimetype": "text/x-python",
   "name": "python",
   "nbconvert_exporter": "python",
   "pygments_lexer": "ipython3",
   "version": "3.9.1"
  },
  "orig_nbformat": 4
 },
 "nbformat": 4,
 "nbformat_minor": 2
}
