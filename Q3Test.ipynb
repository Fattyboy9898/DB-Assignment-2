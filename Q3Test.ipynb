{
 "cells": [
  {
   "cell_type": "code",
   "execution_count": 18,
   "metadata": {},
   "outputs": [],
   "source": [
    "import sys\n",
    "from pyspark.sql import SparkSession\n",
    "from pyspark.sql import functions as F\n",
    "\n",
    "spark = SparkSession.builder.appName(\"Assigment 2 Question 3\").getOrCreate()\n",
    "df = spark.read.option('header','true').csv(\"./data/TA_restaurants_curated_cleaned.csv\",inferSchema=True)"
   ]
  },
  {
   "cell_type": "code",
   "execution_count": 19,
   "metadata": {},
   "outputs": [],
   "source": [
    "df = df.withColumn(\"Reviews\",F.expr(\"substring(Reviews,4,length(Reviews)-6)\"))"
   ]
  },
  {
   "cell_type": "code",
   "execution_count": 20,
   "metadata": {},
   "outputs": [],
   "source": [
    "split_cols = F.split(df[\"Reviews\"],'\\\\], \\\\[')\n",
    "\n",
    "df = df.withColumn('review',split_cols.getItem(0)).withColumn('date',split_cols.getItem(1))"
   ]
  },
  {
   "cell_type": "code",
   "execution_count": 21,
   "metadata": {},
   "outputs": [
    {
     "name": "stdout",
     "output_type": "stream",
     "text": [
      "root\n",
      " |-- _c0: integer (nullable = true)\n",
      " |-- Name: string (nullable = true)\n",
      " |-- City: string (nullable = true)\n",
      " |-- Cuisine Style: string (nullable = true)\n",
      " |-- Ranking: double (nullable = true)\n",
      " |-- Rating: double (nullable = true)\n",
      " |-- Price Range: string (nullable = true)\n",
      " |-- Number of Reviews: double (nullable = true)\n",
      " |-- Reviews: string (nullable = true)\n",
      " |-- URL_TA: string (nullable = true)\n",
      " |-- ID_TA: string (nullable = true)\n",
      " |-- review: array (nullable = true)\n",
      " |    |-- element: string (containsNull = true)\n",
      " |-- date: array (nullable = true)\n",
      " |    |-- element: string (containsNull = true)\n",
      "\n",
      "None\n",
      "root\n",
      " |-- ID_TA: string (nullable = true)\n",
      " |-- review: string (nullable = true)\n",
      " |-- date: string (nullable = true)\n",
      "\n"
     ]
    }
   ],
   "source": [
    "df = df.withColumn('review',F.split(F.col('review'),\",\"))\n",
    "df = df.withColumn('date',F.split(F.col('date'),\",\"))\n",
    "\n",
    "print(df.printSchema())\n",
    "df = df.withColumn(\"new\",F.arrays_zip(\"review\",\"date\"))\\\n",
    "    .withColumn(\"new\",F.explode(\"new\"))\\\n",
    "        .select(\"ID_TA\",F.col(\"new.review\").alias(\"review\"),F.col(\"new.date\").alias(\"date\"))\n",
    "df = df.withColumn('review',F.regexp_replace('review',\"'\",''))\n",
    "df = df.withColumn('date',F.regexp_replace('date',\"'\",''))\n",
    "df.printSchema()"
   ]
  },
  {
   "cell_type": "code",
   "execution_count": 22,
   "metadata": {},
   "outputs": [],
   "source": [
    "df.toPandas().to_csv(\"output/modifiedData3.csv\")"
   ]
  }
 ],
 "metadata": {
  "interpreter": {
   "hash": "4f3b078249380ea762697f4f8f6aea77b3d6e43cbb1b18cbb73d8cde5aa597e7"
  },
  "kernelspec": {
   "display_name": "Python 3.9.6 64-bit (system)",
   "language": "python",
   "name": "python3"
  },
  "language_info": {
   "codemirror_mode": {
    "name": "ipython",
    "version": 3
   },
   "file_extension": ".py",
   "mimetype": "text/x-python",
   "name": "python",
   "nbconvert_exporter": "python",
   "pygments_lexer": "ipython3",
   "version": "3.9.1"
  },
  "orig_nbformat": 4
 },
 "nbformat": 4,
 "nbformat_minor": 2
}
