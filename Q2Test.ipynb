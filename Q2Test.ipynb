{
 "cells": [
  {
   "cell_type": "code",
   "execution_count": 17,
   "metadata": {},
   "outputs": [],
   "source": [
    "import sys\n",
    "from pyspark.sql import SparkSession\n",
    "from pyspark.sql import functions as F\n",
    "\n",
    "spark = SparkSession.builder.appName(\"Assigment 2 Question 2\").getOrCreate()\n",
    "df = spark.read.option('header','true').csv(\"./data/TA_restaurants_curated_cleaned.csv\",inferSchema=True)"
   ]
  },
  {
   "cell_type": "code",
   "execution_count": 18,
   "metadata": {},
   "outputs": [
    {
     "data": {
      "text/plain": [
       "[Row(_c0=840, Name='Bodon, La Grande Brasserie', City='Amsterdam', Cuisine Style=\"[ 'French' ]\", Ranking=842.0, Rating=5.0, Price Range='$$$$', Number of Reviews=17.0, Reviews=\"[ [ 'Excellent and Stylish!', 'Complete experience' ], [ '12/29/2017', '11/02/2017' ] ]\", URL_TA='/Restaurant_Review-g188590-d12908792-Reviews-Bodon_La_Grande_Brasserie-Amsterdam_North_Holland_Province.html', ID_TA='d12908792'),\n",
       " Row(_c0=254, Name='Jaspers', City='Amsterdam', Cuisine Style=\"[ 'Dutch', 'European', 'French', 'Gluten Free Options' ]\", Ranking=255.0, Rating=5.0, Price Range='$$$$', Number of Reviews=126.0, Reviews=\"[ [ 'Christmas eve dinner', 'Excellent meal' ], [ '12/24/2017', '12/02/2017' ] ]\", URL_TA='/Restaurant_Review-g188590-d3628712-Reviews-Jaspers-Amsterdam_North_Holland_Province.html', ID_TA='d3628712'),\n",
       " Row(_c0=1241, Name='Shiraz Jardin des Vins', City='Amsterdam', Cuisine Style=\"[ 'Wine Bar' ]\", Ranking=1244.0, Rating=5.0, Price Range='$$$$', Number of Reviews=9.0, Reviews=\"[ [ 'Delicious Wine!', 'Best winebar in town!' ], [ '12/30/2017', '12/10/2017' ] ]\", URL_TA='/Restaurant_Review-g188590-d13132585-Reviews-Shiraz_Jardin_des_Vins-Amsterdam_North_Holland_Province.html', ID_TA='d13132585'),\n",
       " Row(_c0=183, Name='Utrechtsedwarstafel', City='Amsterdam', Cuisine Style=\"[ 'French', 'Dutch', 'European', 'Gluten Free Options', 'Vegetarian Friendly' ]\", Ranking=184.0, Rating=5.0, Price Range='$$$$', Number of Reviews=220.0, Reviews=\"[ [ 'Memorable dining experience', 'Great food and wine' ], [ '12/05/2017', '11/26/2017' ] ]\", URL_TA='/Restaurant_Review-g188590-d1111389-Reviews-Utrechtsedwarstafel-Amsterdam_North_Holland_Province.html', ID_TA='d1111389'),\n",
       " Row(_c0=3, Name='Vinkeles', City='Amsterdam', Cuisine Style=\"[ 'French', 'European', 'International', 'Contemporary', 'Vegetarian Friendly', 'Vegan Options', 'Gluten Free Options' ]\", Ranking=4.0, Rating=5.0, Price Range='$$$$', Number of Reviews=564.0, Reviews=\"[ [ 'True five star dinner', 'A superb evening of fine dining, hospitali...' ], [ '12/20/2017', '12/17/2017' ] ]\", URL_TA='/Restaurant_Review-g188590-d1239229-Reviews-Vinkeles-Amsterdam_North_Holland_Province.html', ID_TA='d1239229')]"
      ]
     },
     "execution_count": 18,
     "metadata": {},
     "output_type": "execute_result"
    }
   ],
   "source": [
    "df = df.sort(\"City\",F.col(\"Price Range\").desc(),F.col(\"Rating\").desc())"
   ]
  },
  {
   "cell_type": "code",
   "execution_count": 19,
   "metadata": {},
   "outputs": [],
   "source": [
    "df.toPandas().to_csv(\"output/modifiedData2.csv\")"
   ]
  }
 ],
 "metadata": {
  "interpreter": {
   "hash": "4f3b078249380ea762697f4f8f6aea77b3d6e43cbb1b18cbb73d8cde5aa597e7"
  },
  "kernelspec": {
   "display_name": "Python 3.9.6 64-bit (system)",
   "language": "python",
   "name": "python3"
  },
  "language_info": {
   "codemirror_mode": {
    "name": "ipython",
    "version": 3
   },
   "file_extension": ".py",
   "mimetype": "text/x-python",
   "name": "python",
   "nbconvert_exporter": "python",
   "pygments_lexer": "ipython3",
   "version": "3.9.1"
  },
  "orig_nbformat": 4
 },
 "nbformat": 4,
 "nbformat_minor": 2
}
